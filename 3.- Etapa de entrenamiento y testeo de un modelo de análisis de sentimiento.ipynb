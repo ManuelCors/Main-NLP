{
 "cells": [
  {
   "cell_type": "markdown",
   "metadata": {
    "id": "oqCxTdIQ0WxE"
   },
   "source": [
    "#  Etapa de entrenamiento y testeo de un modelo de análisis de sentimiento"
   ]
  },
  {
   "cell_type": "code",
   "execution_count": null,
   "metadata": {
    "id": "FvwlfMZn0Upy"
   },
   "outputs": [],
   "source": [
    "#Librerias: \n",
    "import pandas as pd\n",
    "import numpy as np\n",
    "from sklearn.model_selection import train_test_split\n",
    "from sklearn.feature_extraction.text import CountVectorizer\n",
    "from collections import Counter\n",
    "from sklearn.datasets import make_classification\n",
    "from sklearn.svm import SVC\n",
    "from sklearn.model_selection import GridSearchCV\n",
    "from sklearn.metrics import accuracy_score, precision_score, recall_score, f1_score\n",
    "from xgboost import XGBClassifier\n",
    "from sklearn.feature_extraction.text import TfidfVectorizer\n",
    "import string\n",
    "import nltk\n",
    "from nltk.corpus import stopwords\n",
    "from nltk.stem import WordNetLemmatizer"
   ]
  },
  {
   "cell_type": "code",
   "execution_count": null,
   "metadata": {
    "id": "eotCT5KU0i92"
   },
   "outputs": [],
   "source": [
    "#Cargando el dataset creado:\n",
    "df = pd.read_csv('final.csv')"
   ]
  },
  {
   "cell_type": "code",
   "execution_count": null,
   "metadata": {
    "colab": {
     "base_uri": "https://localhost:8080/",
     "height": 206
    },
    "id": "vZYYclAl1Qz6",
    "outputId": "c5264e54-65b6-4e8e-80ed-76b0de68d290"
   },
   "outputs": [
    {
     "data": {
      "text/html": [
       "\n",
       "  <div id=\"df-16976fe6-fd8f-4aca-ba43-e6bae36c03f1\">\n",
       "    <div class=\"colab-df-container\">\n",
       "      <div>\n",
       "<style scoped>\n",
       "    .dataframe tbody tr th:only-of-type {\n",
       "        vertical-align: middle;\n",
       "    }\n",
       "\n",
       "    .dataframe tbody tr th {\n",
       "        vertical-align: top;\n",
       "    }\n",
       "\n",
       "    .dataframe thead th {\n",
       "        text-align: right;\n",
       "    }\n",
       "</style>\n",
       "<table border=\"1\" class=\"dataframe\">\n",
       "  <thead>\n",
       "    <tr style=\"text-align: right;\">\n",
       "      <th></th>\n",
       "      <th>overall</th>\n",
       "      <th>reviewText</th>\n",
       "    </tr>\n",
       "  </thead>\n",
       "  <tbody>\n",
       "    <tr>\n",
       "      <th>0</th>\n",
       "      <td>4</td>\n",
       "      <td>['pretty', 'good', 'game', 'daughter', 'love',...</td>\n",
       "    </tr>\n",
       "    <tr>\n",
       "      <th>1</th>\n",
       "      <td>5</td>\n",
       "      <td>['first', 'let', 'clear', 'one', 'thing', 'rem...</td>\n",
       "    </tr>\n",
       "    <tr>\n",
       "      <th>2</th>\n",
       "      <td>1</td>\n",
       "      <td>['blue', 'button', 'stopped', 'working', 'quic...</td>\n",
       "    </tr>\n",
       "    <tr>\n",
       "      <th>3</th>\n",
       "      <td>2</td>\n",
       "      <td>['never', 'played', 'game', 'sc', 'series', 't...</td>\n",
       "    </tr>\n",
       "    <tr>\n",
       "      <th>4</th>\n",
       "      <td>2</td>\n",
       "      <td>['no', 'no']</td>\n",
       "    </tr>\n",
       "  </tbody>\n",
       "</table>\n",
       "</div>\n",
       "      <button class=\"colab-df-convert\" onclick=\"convertToInteractive('df-16976fe6-fd8f-4aca-ba43-e6bae36c03f1')\"\n",
       "              title=\"Convert this dataframe to an interactive table.\"\n",
       "              style=\"display:none;\">\n",
       "        \n",
       "  <svg xmlns=\"http://www.w3.org/2000/svg\" height=\"24px\"viewBox=\"0 0 24 24\"\n",
       "       width=\"24px\">\n",
       "    <path d=\"M0 0h24v24H0V0z\" fill=\"none\"/>\n",
       "    <path d=\"M18.56 5.44l.94 2.06.94-2.06 2.06-.94-2.06-.94-.94-2.06-.94 2.06-2.06.94zm-11 1L8.5 8.5l.94-2.06 2.06-.94-2.06-.94L8.5 2.5l-.94 2.06-2.06.94zm10 10l.94 2.06.94-2.06 2.06-.94-2.06-.94-.94-2.06-.94 2.06-2.06.94z\"/><path d=\"M17.41 7.96l-1.37-1.37c-.4-.4-.92-.59-1.43-.59-.52 0-1.04.2-1.43.59L10.3 9.45l-7.72 7.72c-.78.78-.78 2.05 0 2.83L4 21.41c.39.39.9.59 1.41.59.51 0 1.02-.2 1.41-.59l7.78-7.78 2.81-2.81c.8-.78.8-2.07 0-2.86zM5.41 20L4 18.59l7.72-7.72 1.47 1.35L5.41 20z\"/>\n",
       "  </svg>\n",
       "      </button>\n",
       "      \n",
       "  <style>\n",
       "    .colab-df-container {\n",
       "      display:flex;\n",
       "      flex-wrap:wrap;\n",
       "      gap: 12px;\n",
       "    }\n",
       "\n",
       "    .colab-df-convert {\n",
       "      background-color: #E8F0FE;\n",
       "      border: none;\n",
       "      border-radius: 50%;\n",
       "      cursor: pointer;\n",
       "      display: none;\n",
       "      fill: #1967D2;\n",
       "      height: 32px;\n",
       "      padding: 0 0 0 0;\n",
       "      width: 32px;\n",
       "    }\n",
       "\n",
       "    .colab-df-convert:hover {\n",
       "      background-color: #E2EBFA;\n",
       "      box-shadow: 0px 1px 2px rgba(60, 64, 67, 0.3), 0px 1px 3px 1px rgba(60, 64, 67, 0.15);\n",
       "      fill: #174EA6;\n",
       "    }\n",
       "\n",
       "    [theme=dark] .colab-df-convert {\n",
       "      background-color: #3B4455;\n",
       "      fill: #D2E3FC;\n",
       "    }\n",
       "\n",
       "    [theme=dark] .colab-df-convert:hover {\n",
       "      background-color: #434B5C;\n",
       "      box-shadow: 0px 1px 3px 1px rgba(0, 0, 0, 0.15);\n",
       "      filter: drop-shadow(0px 1px 2px rgba(0, 0, 0, 0.3));\n",
       "      fill: #FFFFFF;\n",
       "    }\n",
       "  </style>\n",
       "\n",
       "      <script>\n",
       "        const buttonEl =\n",
       "          document.querySelector('#df-16976fe6-fd8f-4aca-ba43-e6bae36c03f1 button.colab-df-convert');\n",
       "        buttonEl.style.display =\n",
       "          google.colab.kernel.accessAllowed ? 'block' : 'none';\n",
       "\n",
       "        async function convertToInteractive(key) {\n",
       "          const element = document.querySelector('#df-16976fe6-fd8f-4aca-ba43-e6bae36c03f1');\n",
       "          const dataTable =\n",
       "            await google.colab.kernel.invokeFunction('convertToInteractive',\n",
       "                                                     [key], {});\n",
       "          if (!dataTable) return;\n",
       "\n",
       "          const docLinkHtml = 'Like what you see? Visit the ' +\n",
       "            '<a target=\"_blank\" href=https://colab.research.google.com/notebooks/data_table.ipynb>data table notebook</a>'\n",
       "            + ' to learn more about interactive tables.';\n",
       "          element.innerHTML = '';\n",
       "          dataTable['output_type'] = 'display_data';\n",
       "          await google.colab.output.renderOutput(dataTable, element);\n",
       "          const docLink = document.createElement('div');\n",
       "          docLink.innerHTML = docLinkHtml;\n",
       "          element.appendChild(docLink);\n",
       "        }\n",
       "      </script>\n",
       "    </div>\n",
       "  </div>\n",
       "  "
      ],
      "text/plain": [
       "   overall                                         reviewText\n",
       "0        4  ['pretty', 'good', 'game', 'daughter', 'love',...\n",
       "1        5  ['first', 'let', 'clear', 'one', 'thing', 'rem...\n",
       "2        1  ['blue', 'button', 'stopped', 'working', 'quic...\n",
       "3        2  ['never', 'played', 'game', 'sc', 'series', 't...\n",
       "4        2                                       ['no', 'no']"
      ]
     },
     "execution_count": 3,
     "metadata": {},
     "output_type": "execute_result"
    }
   ],
   "source": [
    "df.head()"
   ]
  },
  {
   "cell_type": "code",
   "execution_count": null,
   "metadata": {
    "id": "2OkAehpd2bdS"
   },
   "outputs": [],
   "source": [
    "#Asignar clasificaciones de estrellas a etiquetas de sentimiento (0 = negativo, 1 = positivo):\n",
    "etiqueta = {1: 0, 2: 0, 4: 1, 5: 1}\n",
    "df['etiqueta'] = df['overall'].map(etiqueta)\n",
    "\n",
    "X = df['reviewText']\n",
    "y = df['etiqueta']"
   ]
  },
  {
   "cell_type": "markdown",
   "metadata": {
    "id": "Dy7ta25M0bHy"
   },
   "source": [
    "#Dividir los datos en entrenamiento y prueba"
   ]
  },
  {
   "cell_type": "code",
   "execution_count": null,
   "metadata": {
    "id": "oIytfLfG3Vp9"
   },
   "outputs": [],
   "source": [
    "#Dividir los datos en datos de entrenamiento (80%) y datos de prueba (20%):\n",
    "X_train, X_test, y_train, y_test = train_test_split(X, y, test_size=0.20, random_state=42)"
   ]
  },
  {
   "cell_type": "markdown",
   "metadata": {
    "id": "UcJ2KuLL09kx"
   },
   "source": [
    "# Frecuencia de término-Frecuencia de documento inversa"
   ]
  },
  {
   "cell_type": "markdown",
   "metadata": {
    "id": "emVPMiTgr6Cq"
   },
   "source": [
    "Explicación de la elección de parámetros para tfidfVectorizer:\n",
    "\n",
    "\n",
    "* min_df: establezca min_df en un valor más alto para excluir algunas de las palabras menos frecuentes y reducir potencialmente el ruido en los datos\n",
    "* max_df: dado que hemos visto que la revisión promedio es bastante detallada, decidimos evitar el uso de palabras que podrían considerarse palabras vacías específicas del contexto.\n",
    "* ngram_range: hemos configurado esta función en una serie de valores diferentes de hasta 5 y la hemos probado en un modelo básico. Este valor parece ser el más adecuado.\n",
    "* max_feature: con una cardinalidad de más de 40k, este parámetro tuvo que establecerse bastante alto. Nos decidimos por 2000 ya que tuvo un mejor resultado que en 500 (81% F1-score) y 1000 (83% F1-score). Establecerlo más alto parecía crear demasiada demanda computacional y también podría conducir a un sobreajuste.\n",
    "\n"
   ]
  },
  {
   "cell_type": "code",
   "execution_count": null,
   "metadata": {
    "id": "Q7sgZ7a7aDBX"
   },
   "outputs": [],
   "source": [
    "vectorizer = TfidfVectorizer(min_df=50, max_df=0.90, ngram_range=(1,4), max_features=2000)\n",
    "vectorizer.fit(X) \n",
    "X_train_tf = vectorizer.transform(X_train)  \n",
    "#Tomando X como entrada y convirtiéndolo en matriz de características (valores numéricos):\n",
    "X_train_tf = X_train_tf.todense()\n",
    "X_test_tf = vectorizer.transform(X_test)  \n",
    "#Tomando X como entrada y convirtiéndolo en matriz de características (valores numéricos):\n",
    "X_test_tf = X_test_tf.todense()"
   ]
  },
  {
   "cell_type": "code",
   "execution_count": null,
   "metadata": {
    "id": "6xjSbZFpCqcH"
   },
   "outputs": [],
   "source": [
    "X_train_tf = np.asarray(X_train_tf) \n",
    "X_test_tf = np.asarray(X_test_tf)"
   ]
  },
  {
   "cell_type": "markdown",
   "metadata": {
    "id": "I_LkTJ5J1GYI"
   },
   "source": [
    "# Primer modelo: SVC"
   ]
  },
  {
   "cell_type": "code",
   "execution_count": null,
   "metadata": {
    "colab": {
     "base_uri": "https://localhost:8080/"
    },
    "id": "y2GBzk6SLAvc",
    "outputId": "961d163f-e120-47d5-f528-0fcaff44a145"
   },
   "outputs": [
    {
     "name": "stdout",
     "output_type": "stream",
     "text": [
      "Accuracy: 0.8435\n",
      "Precision: 0.8508728179551123\n",
      "Recall: 0.839153959665519\n",
      "F1-score: 0.844972758791481\n"
     ]
    }
   ],
   "source": [
    "#Crear una instancia del modelo SVM con hiperparámetros básicos:\n",
    "svc = SVC(kernel='linear', C=1, random_state=42)\n",
    "\n",
    "#Entrene el modelo SVM en el conjunto de entrenamiento:\n",
    "svc.fit(X_train_tf, y_train)\n",
    "\n",
    "#Use el modelo SVM entrenado para predecir el sentimiento del conjunto de prueba:\n",
    "y_pred = svc.predict(X_test_tf)\n",
    "\n",
    "#Evalúe el rendimiento del modelo SVM utilizando accuracy, precision, recall y F1-score\n",
    "acc = accuracy_score(y_test, y_pred)\n",
    "prec = precision_score(y_test, y_pred)\n",
    "rec = recall_score(y_test, y_pred)\n",
    "f1 = f1_score(y_test, y_pred)\n",
    "\n",
    "print(\"Accuracy:\", acc)\n",
    "print(\"Precision:\", prec)\n",
    "print(\"Recall:\", rec)\n",
    "print(\"F1-score:\", f1)"
   ]
  },
  {
   "cell_type": "code",
   "execution_count": null,
   "metadata": {
    "id": "dUjzttAmRc3S"
   },
   "outputs": [],
   "source": [
    "#Creación de una función para encontrar los mejores parámetros:\n",
    "def svc_tuning(X_train, y_train, X_test, y_test):\n",
    "    #Establecer los parámetros para la búsqueda de cuadrícula:\n",
    "    param_grid = {'C': [0.1, 1, 10, 100], 'gamma': [0.001, 0.01, 0.1, 1, 10], 'kernel': ['poly', 'rbf', 'sigmoid', 'linear']}\n",
    "    \n",
    "    #Crear el clasificador SVM:\n",
    "    svc = SVC()\n",
    "    \n",
    "    #Creano el GridSearchCV:\n",
    "    grid_search = GridSearchCV(svc, param_grid, cv=5, scoring='accuracy', n_jobs=-1)\n",
    "    \n",
    "    #Ajuste del GridSearchCV a los datos de entrenamiento:\n",
    "    grid_search.fit(X_train, y_train)\n",
    "    \n",
    "    #Use el mejor modelo de la búsqueda de cuadrícula para hacer predicciones sobre los datos de prueba:\n",
    "    y_pred = grid_search.predict(X_test)\n",
    "    \n",
    "    #Calculando el accuracy, precision, recall y F1-score:\n",
    "    accuracy = accuracy_score(y_test, y_pred)\n",
    "    precision = precision_score(y_test, y_pred)\n",
    "    recall = recall_score(y_test, y_pred)\n",
    "    f1 = f1_score(y_test, y_pred)\n",
    "    \n",
    "    print('Best parameters:', grid_search.best_params_)\n",
    "    print('Accuracy:', accuracy)\n",
    "    print('Precision:', precision)\n",
    "    print('Recall:', recall)\n",
    "    print('F1-score:', f1)"
   ]
  },
  {
   "cell_type": "code",
   "execution_count": null,
   "metadata": {
    "colab": {
     "base_uri": "https://localhost:8080/"
    },
    "id": "OCsv9wFbRiD8",
    "outputId": "4630e26b-9ebf-462a-d37c-a1f12be59860"
   },
   "outputs": [
    {
     "name": "stdout",
     "output_type": "stream",
     "text": [
      "Best parameters: {'C': 1, 'gamma': 1, 'kernel': 'rbf'}\n",
      "Accuracy: 0.81525\n",
      "Precision: 0.8355809128630706\n",
      "Recall: 0.7924249877029022\n",
      "F1-score: 0.8134309517798536\n"
     ]
    }
   ],
   "source": [
    "svc_tuning(X_train_tf[0:2000], y_train[0:2000], X_test_tf, y_test)"
   ]
  },
  {
   "cell_type": "code",
   "execution_count": null,
   "metadata": {
    "colab": {
     "base_uri": "https://localhost:8080/"
    },
    "id": "FDWstzw7y5ym",
    "outputId": "da5c1877-e16c-4f38-b1b7-284285f35dd7"
   },
   "outputs": [
    {
     "name": "stdout",
     "output_type": "stream",
     "text": [
      "Accuracy: 0.85275\n",
      "Precision: 0.8553149606299213\n",
      "Recall: 0.8548942449581899\n",
      "F1-score: 0.8551045510455104\n"
     ]
    }
   ],
   "source": [
    "#Crear una instancia del modelo SVM con los mejores hiperparámetros:\n",
    "svc = SVC(kernel='rbf', C=1, gamma=1, random_state=42)\n",
    "\n",
    "#Entrene el modelo SVM en el conjunto de entrenamiento:\n",
    "svc.fit(X_train_tf, y_train)\n",
    "\n",
    "#Use el modelo SVM entrenado para predecir el sentimiento del conjunto de prueba:\n",
    "y_pred = svc.predict(X_test_tf)\n",
    "\n",
    "#Evaluar el rendimiento del modelo SVM usando accuracy, precision, recall, and F1-score:\n",
    "acc = accuracy_score(y_test, y_pred)\n",
    "prec = precision_score(y_test, y_pred)\n",
    "rec = recall_score(y_test, y_pred)\n",
    "f1 = f1_score(y_test, y_pred)\n",
    "\n",
    "print(\"Accuracy:\", acc)\n",
    "print(\"Precision:\", prec)\n",
    "print(\"Recall:\", rec)\n",
    "print(\"F1-score:\", f1)"
   ]
  },
  {
   "cell_type": "markdown",
   "metadata": {
    "id": "GL5eU9P81Hph"
   },
   "source": [
    "# Segundo modelo: XGBoost"
   ]
  },
  {
   "cell_type": "code",
   "execution_count": null,
   "metadata": {
    "colab": {
     "background_save": true,
     "base_uri": "https://localhost:8080/"
    },
    "id": "DXuQNevbfDmL",
    "outputId": "337eb496-7583-44a4-d810-3c6b025ffcd2"
   },
   "outputs": [
    {
     "name": "stdout",
     "output_type": "stream",
     "text": [
      "Fitting 5 folds for each of 243 candidates, totalling 1215 fits\n"
     ]
    }
   ],
   "source": [
    "#Definir el modelo XGBoost:\n",
    "xgb_model = XGBClassifier()\n",
    "\n",
    "#Parametros:\n",
    "params = {\n",
    "    \"learning_rate\": [0.1, 0.01, 0.001],\n",
    "    \"max_depth\": [3, 5, 7],\n",
    "    \"subsample\": [0.5, 0.8, 1.0],\n",
    "    \"colsample_bytree\": [0.5, 0.8, 1.0],\n",
    "    \"gamma\": [0.01, 0.1, 1.0]\n",
    "}\n",
    "\n",
    "#GridSearchCV:\n",
    "grid_search = GridSearchCV(\n",
    "    estimator=xgb_model,\n",
    "    param_grid=params,\n",
    "    cv=5,\n",
    "    n_jobs=-1,\n",
    "    verbose=3\n",
    ")\n",
    "\n",
    "#Ajuste la búsqueda de cuadrícula a los datos de entrenamiento:\n",
    "grid_search.fit(X_train_tf[:2000], y_train[:2000])\n",
    "\n",
    "#Imprime los mejores parámetros y la puntuación correspondiente:\n",
    "print(\"Best parameters:\", grid_search.best_params_)\n",
    "print(\"Best score:\", grid_search.best_score_)"
   ]
  },
  {
   "cell_type": "code",
   "execution_count": null,
   "metadata": {
    "id": "pQ-VkHCqYIa1"
   },
   "outputs": [],
   "source": [
    "#Modelo XGBoost:\n",
    "xgb_model = XGBClassifier(\n",
    "    n_estimators=1000,\n",
    "    max_depth=7,\n",
    "    learning_rate=0.1,\n",
    "    subsample=0.5,\n",
    "    colsample_bytree=0.5,\n",
    "    gamma = 0.1, \n",
    "    random_state=42\n",
    ")\n",
    "\n",
    "#Entrenar modelo XGBoost:\n",
    "xgb_model.fit(X_train_tf, y_train)\n",
    "\n",
    "#Evaluar modelo XGBoost:\n",
    "y_pred = xgb_model.predict(X_test_tf)\n",
    "accuracy = accuracy_score(y_test, y_pred)"
   ]
  },
  {
   "cell_type": "code",
   "execution_count": null,
   "metadata": {
    "colab": {
     "base_uri": "https://localhost:8080/"
    },
    "id": "lvsZjPniY3Jh",
    "outputId": "475720a0-91bf-406b-9e69-b2a343ba077b"
   },
   "outputs": [
    {
     "name": "stdout",
     "output_type": "stream",
     "text": [
      "0.853\n"
     ]
    }
   ],
   "source": [
    "#Resultado:\n",
    "print(accuracy)"
   ]
  }
 ],
 "metadata": {
  "accelerator": "GPU",
  "colab": {
   "provenance": []
  },
  "gpuClass": "premium",
  "kernelspec": {
   "display_name": "Python 3 (ipykernel)",
   "language": "python",
   "name": "python3"
  },
  "language_info": {
   "codemirror_mode": {
    "name": "ipython",
    "version": 3
   },
   "file_extension": ".py",
   "mimetype": "text/x-python",
   "name": "python",
   "nbconvert_exporter": "python",
   "pygments_lexer": "ipython3",
   "version": "3.7.16"
  },
  "vscode": {
   "interpreter": {
    "hash": "279e41f851e3a758ad70de47b59217a5307449cfb5bf9da795e3f338ef26c0e0"
   }
  }
 },
 "nbformat": 4,
 "nbformat_minor": 1
}
